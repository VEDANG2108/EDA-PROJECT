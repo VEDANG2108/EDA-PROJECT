{
  "nbformat": 4,
  "nbformat_minor": 0,
  "metadata": {
    "colab": {
      "provenance": [],
      "authorship_tag": "ABX9TyP4qERxNBgg/7lmh4H6tLmc",
      "include_colab_link": true
    },
    "kernelspec": {
      "name": "python3",
      "display_name": "Python 3"
    },
    "language_info": {
      "name": "python"
    }
  },
  "cells": [
    {
      "cell_type": "markdown",
      "metadata": {
        "id": "view-in-github",
        "colab_type": "text"
      },
      "source": [
        "<a href=\"https://colab.research.google.com/github/VEDANG2108/EDA-PROJECT/blob/main/22BDS0057.ipynb\" target=\"_parent\"><img src=\"https://colab.research.google.com/assets/colab-badge.svg\" alt=\"Open In Colab\"/></a>"
      ]
    },
    {
      "cell_type": "markdown",
      "source": [
        "<div style=\"text-align:left;\">\n",
        "  <b>Name:</b> VEDANG JITENDRA GARG<br>\n",
        "  <b>Reg No:</b> 22BDS0057\n",
        "</div>\n",
        "\n",
        "<div style=\"display:flex; justify-content:center; align-items:center;\">\n",
        "  <h1>EXPLORATORY DATA ANALYSIS PROJECT</h1>\n",
        "</div>\n",
        "\n"
      ],
      "metadata": {
        "id": "mCdAJdiYQoTk"
      }
    },
    {
      "cell_type": "markdown",
      "source": [
        "Dataset link: https://raw.githubusercontent.com/salemprakash/EDA/main/Data/Liver%20Data.csv"
      ],
      "metadata": {
        "id": "eWsgSd5nTlU2"
      }
    },
    {
      "cell_type": "markdown",
      "source": [
        "<b> Load the Dataset </b>"
      ],
      "metadata": {
        "id": "xU3eeG5TUgQY"
      }
    },
    {
      "cell_type": "code",
      "source": [
        "import pandas as pd\n",
        "import numpy as np\n",
        "import matplotlib.pyplot as plt\n",
        "import seaborn as sns\n",
        "\n",
        "url = \"https://raw.githubusercontent.com/salemprakash/EDA/main/Data/Liver%20Data.csv\"\n",
        "\n",
        "df = pd.read_csv(url)\n",
        "\n",
        "df.head()\n"
      ],
      "metadata": {
        "colab": {
          "base_uri": "https://localhost:8080/",
          "height": 223
        },
        "id": "laVn-qBtUkTU",
        "outputId": "94d47edb-6bf9-462f-9778-b729beee803b"
      },
      "execution_count": 9,
      "outputs": [
        {
          "output_type": "execute_result",
          "data": {
            "text/plain": [
              "   Age of the patient Gender of the patient  Total Bilirubin  \\\n",
              "0                65.0                Female              0.7   \n",
              "1                62.0                  Male             10.9   \n",
              "2                62.0                  Male              7.3   \n",
              "3                58.0                  Male              1.0   \n",
              "4                72.0                  Male              3.9   \n",
              "\n",
              "   Direct Bilirubin   Alkphos Alkaline Phosphotase  \\\n",
              "0               0.1                          187.0   \n",
              "1               5.5                          699.0   \n",
              "2               4.1                          490.0   \n",
              "3               0.4                          182.0   \n",
              "4               2.0                          195.0   \n",
              "\n",
              "    Sgpt Alamine Aminotransferase  Sgot Aspartate Aminotransferase  \\\n",
              "0                            16.0                             18.0   \n",
              "1                            64.0                            100.0   \n",
              "2                            60.0                             68.0   \n",
              "3                            14.0                             20.0   \n",
              "4                            27.0                             59.0   \n",
              "\n",
              "   Total Protiens   ALB Albumin  A/G Ratio Albumin and Globulin Ratio  Result  \n",
              "0             6.8           3.3                                  0.90       1  \n",
              "1             7.5           3.2                                  0.74       1  \n",
              "2             7.0           3.3                                  0.89       1  \n",
              "3             6.8           3.4                                  1.00       1  \n",
              "4             7.3           2.4                                  0.40       1  "
            ],
            "text/html": [
              "\n",
              "  <div id=\"df-bde4e482-618e-4e75-924f-a8caf86ed6f1\" class=\"colab-df-container\">\n",
              "    <div>\n",
              "<style scoped>\n",
              "    .dataframe tbody tr th:only-of-type {\n",
              "        vertical-align: middle;\n",
              "    }\n",
              "\n",
              "    .dataframe tbody tr th {\n",
              "        vertical-align: top;\n",
              "    }\n",
              "\n",
              "    .dataframe thead th {\n",
              "        text-align: right;\n",
              "    }\n",
              "</style>\n",
              "<table border=\"1\" class=\"dataframe\">\n",
              "  <thead>\n",
              "    <tr style=\"text-align: right;\">\n",
              "      <th></th>\n",
              "      <th>Age of the patient</th>\n",
              "      <th>Gender of the patient</th>\n",
              "      <th>Total Bilirubin</th>\n",
              "      <th>Direct Bilirubin</th>\n",
              "      <th>Alkphos Alkaline Phosphotase</th>\n",
              "      <th>Sgpt Alamine Aminotransferase</th>\n",
              "      <th>Sgot Aspartate Aminotransferase</th>\n",
              "      <th>Total Protiens</th>\n",
              "      <th>ALB Albumin</th>\n",
              "      <th>A/G Ratio Albumin and Globulin Ratio</th>\n",
              "      <th>Result</th>\n",
              "    </tr>\n",
              "  </thead>\n",
              "  <tbody>\n",
              "    <tr>\n",
              "      <th>0</th>\n",
              "      <td>65.0</td>\n",
              "      <td>Female</td>\n",
              "      <td>0.7</td>\n",
              "      <td>0.1</td>\n",
              "      <td>187.0</td>\n",
              "      <td>16.0</td>\n",
              "      <td>18.0</td>\n",
              "      <td>6.8</td>\n",
              "      <td>3.3</td>\n",
              "      <td>0.90</td>\n",
              "      <td>1</td>\n",
              "    </tr>\n",
              "    <tr>\n",
              "      <th>1</th>\n",
              "      <td>62.0</td>\n",
              "      <td>Male</td>\n",
              "      <td>10.9</td>\n",
              "      <td>5.5</td>\n",
              "      <td>699.0</td>\n",
              "      <td>64.0</td>\n",
              "      <td>100.0</td>\n",
              "      <td>7.5</td>\n",
              "      <td>3.2</td>\n",
              "      <td>0.74</td>\n",
              "      <td>1</td>\n",
              "    </tr>\n",
              "    <tr>\n",
              "      <th>2</th>\n",
              "      <td>62.0</td>\n",
              "      <td>Male</td>\n",
              "      <td>7.3</td>\n",
              "      <td>4.1</td>\n",
              "      <td>490.0</td>\n",
              "      <td>60.0</td>\n",
              "      <td>68.0</td>\n",
              "      <td>7.0</td>\n",
              "      <td>3.3</td>\n",
              "      <td>0.89</td>\n",
              "      <td>1</td>\n",
              "    </tr>\n",
              "    <tr>\n",
              "      <th>3</th>\n",
              "      <td>58.0</td>\n",
              "      <td>Male</td>\n",
              "      <td>1.0</td>\n",
              "      <td>0.4</td>\n",
              "      <td>182.0</td>\n",
              "      <td>14.0</td>\n",
              "      <td>20.0</td>\n",
              "      <td>6.8</td>\n",
              "      <td>3.4</td>\n",
              "      <td>1.00</td>\n",
              "      <td>1</td>\n",
              "    </tr>\n",
              "    <tr>\n",
              "      <th>4</th>\n",
              "      <td>72.0</td>\n",
              "      <td>Male</td>\n",
              "      <td>3.9</td>\n",
              "      <td>2.0</td>\n",
              "      <td>195.0</td>\n",
              "      <td>27.0</td>\n",
              "      <td>59.0</td>\n",
              "      <td>7.3</td>\n",
              "      <td>2.4</td>\n",
              "      <td>0.40</td>\n",
              "      <td>1</td>\n",
              "    </tr>\n",
              "  </tbody>\n",
              "</table>\n",
              "</div>\n",
              "    <div class=\"colab-df-buttons\">\n",
              "\n",
              "  <div class=\"colab-df-container\">\n",
              "    <button class=\"colab-df-convert\" onclick=\"convertToInteractive('df-bde4e482-618e-4e75-924f-a8caf86ed6f1')\"\n",
              "            title=\"Convert this dataframe to an interactive table.\"\n",
              "            style=\"display:none;\">\n",
              "\n",
              "  <svg xmlns=\"http://www.w3.org/2000/svg\" height=\"24px\" viewBox=\"0 -960 960 960\">\n",
              "    <path d=\"M120-120v-720h720v720H120Zm60-500h600v-160H180v160Zm220 220h160v-160H400v160Zm0 220h160v-160H400v160ZM180-400h160v-160H180v160Zm440 0h160v-160H620v160ZM180-180h160v-160H180v160Zm440 0h160v-160H620v160Z\"/>\n",
              "  </svg>\n",
              "    </button>\n",
              "\n",
              "  <style>\n",
              "    .colab-df-container {\n",
              "      display:flex;\n",
              "      gap: 12px;\n",
              "    }\n",
              "\n",
              "    .colab-df-convert {\n",
              "      background-color: #E8F0FE;\n",
              "      border: none;\n",
              "      border-radius: 50%;\n",
              "      cursor: pointer;\n",
              "      display: none;\n",
              "      fill: #1967D2;\n",
              "      height: 32px;\n",
              "      padding: 0 0 0 0;\n",
              "      width: 32px;\n",
              "    }\n",
              "\n",
              "    .colab-df-convert:hover {\n",
              "      background-color: #E2EBFA;\n",
              "      box-shadow: 0px 1px 2px rgba(60, 64, 67, 0.3), 0px 1px 3px 1px rgba(60, 64, 67, 0.15);\n",
              "      fill: #174EA6;\n",
              "    }\n",
              "\n",
              "    .colab-df-buttons div {\n",
              "      margin-bottom: 4px;\n",
              "    }\n",
              "\n",
              "    [theme=dark] .colab-df-convert {\n",
              "      background-color: #3B4455;\n",
              "      fill: #D2E3FC;\n",
              "    }\n",
              "\n",
              "    [theme=dark] .colab-df-convert:hover {\n",
              "      background-color: #434B5C;\n",
              "      box-shadow: 0px 1px 3px 1px rgba(0, 0, 0, 0.15);\n",
              "      filter: drop-shadow(0px 1px 2px rgba(0, 0, 0, 0.3));\n",
              "      fill: #FFFFFF;\n",
              "    }\n",
              "  </style>\n",
              "\n",
              "    <script>\n",
              "      const buttonEl =\n",
              "        document.querySelector('#df-bde4e482-618e-4e75-924f-a8caf86ed6f1 button.colab-df-convert');\n",
              "      buttonEl.style.display =\n",
              "        google.colab.kernel.accessAllowed ? 'block' : 'none';\n",
              "\n",
              "      async function convertToInteractive(key) {\n",
              "        const element = document.querySelector('#df-bde4e482-618e-4e75-924f-a8caf86ed6f1');\n",
              "        const dataTable =\n",
              "          await google.colab.kernel.invokeFunction('convertToInteractive',\n",
              "                                                    [key], {});\n",
              "        if (!dataTable) return;\n",
              "\n",
              "        const docLinkHtml = 'Like what you see? Visit the ' +\n",
              "          '<a target=\"_blank\" href=https://colab.research.google.com/notebooks/data_table.ipynb>data table notebook</a>'\n",
              "          + ' to learn more about interactive tables.';\n",
              "        element.innerHTML = '';\n",
              "        dataTable['output_type'] = 'display_data';\n",
              "        await google.colab.output.renderOutput(dataTable, element);\n",
              "        const docLink = document.createElement('div');\n",
              "        docLink.innerHTML = docLinkHtml;\n",
              "        element.appendChild(docLink);\n",
              "      }\n",
              "    </script>\n",
              "  </div>\n",
              "\n",
              "\n",
              "    <div id=\"df-068f9510-7289-4614-a0c4-404c4ee3c234\">\n",
              "      <button class=\"colab-df-quickchart\" onclick=\"quickchart('df-068f9510-7289-4614-a0c4-404c4ee3c234')\"\n",
              "                title=\"Suggest charts\"\n",
              "                style=\"display:none;\">\n",
              "\n",
              "<svg xmlns=\"http://www.w3.org/2000/svg\" height=\"24px\"viewBox=\"0 0 24 24\"\n",
              "     width=\"24px\">\n",
              "    <g>\n",
              "        <path d=\"M19 3H5c-1.1 0-2 .9-2 2v14c0 1.1.9 2 2 2h14c1.1 0 2-.9 2-2V5c0-1.1-.9-2-2-2zM9 17H7v-7h2v7zm4 0h-2V7h2v10zm4 0h-2v-4h2v4z\"/>\n",
              "    </g>\n",
              "</svg>\n",
              "      </button>\n",
              "\n",
              "<style>\n",
              "  .colab-df-quickchart {\n",
              "      --bg-color: #E8F0FE;\n",
              "      --fill-color: #1967D2;\n",
              "      --hover-bg-color: #E2EBFA;\n",
              "      --hover-fill-color: #174EA6;\n",
              "      --disabled-fill-color: #AAA;\n",
              "      --disabled-bg-color: #DDD;\n",
              "  }\n",
              "\n",
              "  [theme=dark] .colab-df-quickchart {\n",
              "      --bg-color: #3B4455;\n",
              "      --fill-color: #D2E3FC;\n",
              "      --hover-bg-color: #434B5C;\n",
              "      --hover-fill-color: #FFFFFF;\n",
              "      --disabled-bg-color: #3B4455;\n",
              "      --disabled-fill-color: #666;\n",
              "  }\n",
              "\n",
              "  .colab-df-quickchart {\n",
              "    background-color: var(--bg-color);\n",
              "    border: none;\n",
              "    border-radius: 50%;\n",
              "    cursor: pointer;\n",
              "    display: none;\n",
              "    fill: var(--fill-color);\n",
              "    height: 32px;\n",
              "    padding: 0;\n",
              "    width: 32px;\n",
              "  }\n",
              "\n",
              "  .colab-df-quickchart:hover {\n",
              "    background-color: var(--hover-bg-color);\n",
              "    box-shadow: 0 1px 2px rgba(60, 64, 67, 0.3), 0 1px 3px 1px rgba(60, 64, 67, 0.15);\n",
              "    fill: var(--button-hover-fill-color);\n",
              "  }\n",
              "\n",
              "  .colab-df-quickchart-complete:disabled,\n",
              "  .colab-df-quickchart-complete:disabled:hover {\n",
              "    background-color: var(--disabled-bg-color);\n",
              "    fill: var(--disabled-fill-color);\n",
              "    box-shadow: none;\n",
              "  }\n",
              "\n",
              "  .colab-df-spinner {\n",
              "    border: 2px solid var(--fill-color);\n",
              "    border-color: transparent;\n",
              "    border-bottom-color: var(--fill-color);\n",
              "    animation:\n",
              "      spin 1s steps(1) infinite;\n",
              "  }\n",
              "\n",
              "  @keyframes spin {\n",
              "    0% {\n",
              "      border-color: transparent;\n",
              "      border-bottom-color: var(--fill-color);\n",
              "      border-left-color: var(--fill-color);\n",
              "    }\n",
              "    20% {\n",
              "      border-color: transparent;\n",
              "      border-left-color: var(--fill-color);\n",
              "      border-top-color: var(--fill-color);\n",
              "    }\n",
              "    30% {\n",
              "      border-color: transparent;\n",
              "      border-left-color: var(--fill-color);\n",
              "      border-top-color: var(--fill-color);\n",
              "      border-right-color: var(--fill-color);\n",
              "    }\n",
              "    40% {\n",
              "      border-color: transparent;\n",
              "      border-right-color: var(--fill-color);\n",
              "      border-top-color: var(--fill-color);\n",
              "    }\n",
              "    60% {\n",
              "      border-color: transparent;\n",
              "      border-right-color: var(--fill-color);\n",
              "    }\n",
              "    80% {\n",
              "      border-color: transparent;\n",
              "      border-right-color: var(--fill-color);\n",
              "      border-bottom-color: var(--fill-color);\n",
              "    }\n",
              "    90% {\n",
              "      border-color: transparent;\n",
              "      border-bottom-color: var(--fill-color);\n",
              "    }\n",
              "  }\n",
              "</style>\n",
              "\n",
              "      <script>\n",
              "        async function quickchart(key) {\n",
              "          const quickchartButtonEl =\n",
              "            document.querySelector('#' + key + ' button');\n",
              "          quickchartButtonEl.disabled = true;  // To prevent multiple clicks.\n",
              "          quickchartButtonEl.classList.add('colab-df-spinner');\n",
              "          try {\n",
              "            const charts = await google.colab.kernel.invokeFunction(\n",
              "                'suggestCharts', [key], {});\n",
              "          } catch (error) {\n",
              "            console.error('Error during call to suggestCharts:', error);\n",
              "          }\n",
              "          quickchartButtonEl.classList.remove('colab-df-spinner');\n",
              "          quickchartButtonEl.classList.add('colab-df-quickchart-complete');\n",
              "        }\n",
              "        (() => {\n",
              "          let quickchartButtonEl =\n",
              "            document.querySelector('#df-068f9510-7289-4614-a0c4-404c4ee3c234 button');\n",
              "          quickchartButtonEl.style.display =\n",
              "            google.colab.kernel.accessAllowed ? 'block' : 'none';\n",
              "        })();\n",
              "      </script>\n",
              "    </div>\n",
              "\n",
              "    </div>\n",
              "  </div>\n"
            ],
            "application/vnd.google.colaboratory.intrinsic+json": {
              "type": "dataframe",
              "variable_name": "df",
              "summary": "{\n  \"name\": \"df\",\n  \"rows\": 30691,\n  \"fields\": [\n    {\n      \"column\": \"Age of the patient\",\n      \"properties\": {\n        \"dtype\": \"number\",\n        \"std\": 15.981043352865353,\n        \"min\": 4.0,\n        \"max\": 90.0,\n        \"num_unique_values\": 77,\n        \"samples\": [\n          46.0,\n          37.0,\n          64.0\n        ],\n        \"semantic_type\": \"\",\n        \"description\": \"\"\n      }\n    },\n    {\n      \"column\": \"Gender of the patient\",\n      \"properties\": {\n        \"dtype\": \"category\",\n        \"num_unique_values\": 2,\n        \"samples\": [\n          \"Male\",\n          \"Female\"\n        ],\n        \"semantic_type\": \"\",\n        \"description\": \"\"\n      }\n    },\n    {\n      \"column\": \"Total Bilirubin\",\n      \"properties\": {\n        \"dtype\": \"number\",\n        \"std\": 6.255522461701278,\n        \"min\": 0.4,\n        \"max\": 75.0,\n        \"num_unique_values\": 113,\n        \"samples\": [\n          4.9,\n          3.9\n        ],\n        \"semantic_type\": \"\",\n        \"description\": \"\"\n      }\n    },\n    {\n      \"column\": \"Direct Bilirubin\",\n      \"properties\": {\n        \"dtype\": \"number\",\n        \"std\": 2.8695918384163246,\n        \"min\": 0.1,\n        \"max\": 19.7,\n        \"num_unique_values\": 80,\n        \"samples\": [\n          6.2,\n          0.1\n        ],\n        \"semantic_type\": \"\",\n        \"description\": \"\"\n      }\n    },\n    {\n      \"column\": \"\\u00a0Alkphos Alkaline Phosphotase\",\n      \"properties\": {\n        \"dtype\": \"number\",\n        \"std\": 238.53758868111933,\n        \"min\": 63.0,\n        \"max\": 2110.0,\n        \"num_unique_values\": 263,\n        \"samples\": [\n          250.0,\n          1124.0\n        ],\n        \"semantic_type\": \"\",\n        \"description\": \"\"\n      }\n    },\n    {\n      \"column\": \"\\u00a0Sgpt Alamine Aminotransferase\",\n      \"properties\": {\n        \"dtype\": \"number\",\n        \"std\": 182.15884969700437,\n        \"min\": 10.0,\n        \"max\": 2000.0,\n        \"num_unique_values\": 152,\n        \"samples\": [\n          2000.0,\n          321.0\n        ],\n        \"semantic_type\": \"\",\n        \"description\": \"\"\n      }\n    },\n    {\n      \"column\": \"Sgot Aspartate Aminotransferase\",\n      \"properties\": {\n        \"dtype\": \"number\",\n        \"std\": 280.8510782830601,\n        \"min\": 10.0,\n        \"max\": 4929.0,\n        \"num_unique_values\": 177,\n        \"samples\": [\n          55.0,\n          43.0\n        ],\n        \"semantic_type\": \"\",\n        \"description\": \"\"\n      }\n    },\n    {\n      \"column\": \"Total Protiens\",\n      \"properties\": {\n        \"dtype\": \"number\",\n        \"std\": 1.0819804184145247,\n        \"min\": 2.7,\n        \"max\": 9.6,\n        \"num_unique_values\": 58,\n        \"samples\": [\n          6.8,\n          6.7\n        ],\n        \"semantic_type\": \"\",\n        \"description\": \"\"\n      }\n    },\n    {\n      \"column\": \"\\u00a0ALB Albumin\",\n      \"properties\": {\n        \"dtype\": \"number\",\n        \"std\": 0.7922813804140391,\n        \"min\": 0.9,\n        \"max\": 5.5,\n        \"num_unique_values\": 40,\n        \"samples\": [\n          2.0,\n          1.9\n        ],\n        \"semantic_type\": \"\",\n        \"description\": \"\"\n      }\n    },\n    {\n      \"column\": \"A/G Ratio Albumin and Globulin Ratio\",\n      \"properties\": {\n        \"dtype\": \"number\",\n        \"std\": 0.32316390844077564,\n        \"min\": 0.3,\n        \"max\": 2.8,\n        \"num_unique_values\": 69,\n        \"samples\": [\n          1.6,\n          0.9\n        ],\n        \"semantic_type\": \"\",\n        \"description\": \"\"\n      }\n    },\n    {\n      \"column\": \"Result\",\n      \"properties\": {\n        \"dtype\": \"number\",\n        \"std\": 0,\n        \"min\": 1,\n        \"max\": 2,\n        \"num_unique_values\": 2,\n        \"samples\": [\n          2,\n          1\n        ],\n        \"semantic_type\": \"\",\n        \"description\": \"\"\n      }\n    }\n  ]\n}"
            }
          },
          "metadata": {},
          "execution_count": 9
        }
      ]
    },
    {
      "cell_type": "markdown",
      "source": [
        "<b> Dimensions </b>"
      ],
      "metadata": {
        "id": "WrYH-h_LU7RW"
      }
    },
    {
      "cell_type": "code",
      "source": [
        "# 1. Shape of dataset\n",
        "rows, cols = df.shape\n",
        "print(f\"Dataset Dimensions: {rows} rows × {cols} columns\")\n",
        "\n",
        "# 2. Feature type counts\n",
        "print(\"\\nFeature Types Count:\")\n",
        "print(df.dtypes.value_counts())\n",
        "\n",
        "# 3. Data Types & Non-null Counts\n",
        "print(\"\\n--- Data Types & Non-null Counts ---\")\n",
        "print(df.info())\n",
        "\n"
      ],
      "metadata": {
        "colab": {
          "base_uri": "https://localhost:8080/"
        },
        "id": "5o4IbA5qY00o",
        "outputId": "a754ab3e-200a-4cef-a850-910bec5c3d34"
      },
      "execution_count": 3,
      "outputs": [
        {
          "output_type": "stream",
          "name": "stdout",
          "text": [
            "Dataset Dimensions: 30691 rows × 11 columns\n",
            "\n",
            "Feature Types Count:\n",
            "float64    9\n",
            "object     1\n",
            "int64      1\n",
            "Name: count, dtype: int64\n",
            "\n",
            "--- Data Types & Non-null Counts ---\n",
            "<class 'pandas.core.frame.DataFrame'>\n",
            "RangeIndex: 30691 entries, 0 to 30690\n",
            "Data columns (total 11 columns):\n",
            " #   Column                                Non-Null Count  Dtype  \n",
            "---  ------                                --------------  -----  \n",
            " 0   Age of the patient                    30689 non-null  float64\n",
            " 1   Gender of the patient                 29789 non-null  object \n",
            " 2   Total Bilirubin                       30043 non-null  float64\n",
            " 3   Direct Bilirubin                      30130 non-null  float64\n",
            " 4    Alkphos Alkaline Phosphotase         29895 non-null  float64\n",
            " 5    Sgpt Alamine Aminotransferase        30153 non-null  float64\n",
            " 6   Sgot Aspartate Aminotransferase       30229 non-null  float64\n",
            " 7   Total Protiens                        30228 non-null  float64\n",
            " 8    ALB Albumin                          30197 non-null  float64\n",
            " 9   A/G Ratio Albumin and Globulin Ratio  30132 non-null  float64\n",
            " 10  Result                                30691 non-null  int64  \n",
            "dtypes: float64(9), int64(1), object(1)\n",
            "memory usage: 2.6+ MB\n",
            "None\n"
          ]
        }
      ]
    },
    {
      "cell_type": "markdown",
      "source": [
        "<b> Summary Statistics </b>"
      ],
      "metadata": {
        "id": "Egoq3LKdd5kx"
      }
    },
    {
      "cell_type": "code",
      "source": [
        "# Numerical summary statistics\n",
        "print(\"\\n--- Numerical Summary Statistics ---\")\n",
        "print(df.describe())\n",
        "\n",
        "# Categorical summary statistics\n",
        "print(\"\\n--- Categorical Summary Statistics ---\")\n",
        "print(df.describe(include='object'))\n",
        "\n",
        "# Value counts for categorical columns\n",
        "print(\"\\n--- Value Counts for Categorical Columns ---\")\n",
        "cat_cols = df.select_dtypes(include='object').columns\n",
        "for col in cat_cols:\n",
        "    print(f\"\\n{col}:\")\n",
        "    print(df[col].value_counts())\n"
      ],
      "metadata": {
        "colab": {
          "base_uri": "https://localhost:8080/"
        },
        "id": "-xfQr1n1eBKF",
        "outputId": "d1657aea-3be1-4284-d4f6-87b20e915d0d"
      },
      "execution_count": null,
      "outputs": [
        {
          "output_type": "stream",
          "name": "stdout",
          "text": [
            "\n",
            "--- Numerical Summary Statistics ---\n",
            "       Age of the patient  Total Bilirubin  Direct Bilirubin  \\\n",
            "count        30689.000000     30043.000000      30130.000000   \n",
            "mean            44.107205         3.370319          1.528042   \n",
            "std             15.981043         6.255522          2.869592   \n",
            "min              4.000000         0.400000          0.100000   \n",
            "25%             32.000000         0.800000          0.200000   \n",
            "50%             45.000000         1.000000          0.300000   \n",
            "75%             55.000000         2.700000          1.300000   \n",
            "max             90.000000        75.000000         19.700000   \n",
            "\n",
            "        Alkphos Alkaline Phosphotase   Sgpt Alamine Aminotransferase  \\\n",
            "count                   29895.000000                    30153.000000   \n",
            "mean                      289.075364                       81.488641   \n",
            "std                       238.537589                      182.158850   \n",
            "min                        63.000000                       10.000000   \n",
            "25%                       175.000000                       23.000000   \n",
            "50%                       209.000000                       35.000000   \n",
            "75%                       298.000000                       62.000000   \n",
            "max                      2110.000000                     2000.000000   \n",
            "\n",
            "       Sgot Aspartate Aminotransferase  Total Protiens   ALB Albumin  \\\n",
            "count                     30229.000000    30228.000000  30197.000000   \n",
            "mean                        111.469979        6.480237      3.130142   \n",
            "std                         280.851078        1.081980      0.792281   \n",
            "min                          10.000000        2.700000      0.900000   \n",
            "25%                          26.000000        5.800000      2.600000   \n",
            "50%                          42.000000        6.600000      3.100000   \n",
            "75%                          88.000000        7.200000      3.800000   \n",
            "max                        4929.000000        9.600000      5.500000   \n",
            "\n",
            "       A/G Ratio Albumin and Globulin Ratio        Result  \n",
            "count                          30132.000000  30691.000000  \n",
            "mean                               0.943467      1.285882  \n",
            "std                                0.323164      0.451841  \n",
            "min                                0.300000      1.000000  \n",
            "25%                                0.700000      1.000000  \n",
            "50%                                0.900000      1.000000  \n",
            "75%                                1.100000      2.000000  \n",
            "max                                2.800000      2.000000  \n",
            "\n",
            "--- Categorical Summary Statistics ---\n",
            "       Gender of the patient\n",
            "count                  29789\n",
            "unique                     2\n",
            "top                     Male\n",
            "freq                   21986\n",
            "\n",
            "--- Value Counts for Categorical Columns ---\n",
            "\n",
            "Gender of the patient:\n",
            "Gender of the patient\n",
            "Male      21986\n",
            "Female     7803\n",
            "Name: count, dtype: int64\n"
          ]
        }
      ]
    },
    {
      "cell_type": "markdown",
      "source": [
        "<b> Data Handling </b>"
      ],
      "metadata": {
        "id": "pEB7bYOWi1y1"
      }
    },
    {
      "cell_type": "code",
      "source": [
        "# --- Data Handling ---\n",
        "print(\"\\n--- Missing Values Count ---\")\n",
        "print(df.isnull().sum())\n",
        "\n",
        "print(\"\\n--- Duplicate Rows ---\")\n",
        "print(df.duplicated().sum())"
      ],
      "metadata": {
        "colab": {
          "base_uri": "https://localhost:8080/"
        },
        "id": "A4DBFEu6i4nq",
        "outputId": "312fcaf7-544c-49cf-992f-90d8652a9980"
      },
      "execution_count": 4,
      "outputs": [
        {
          "output_type": "stream",
          "name": "stdout",
          "text": [
            "\n",
            "--- Missing Values Count ---\n",
            "Age of the patient                        2\n",
            "Gender of the patient                   902\n",
            "Total Bilirubin                         648\n",
            "Direct Bilirubin                        561\n",
            " Alkphos Alkaline Phosphotase           796\n",
            " Sgpt Alamine Aminotransferase          538\n",
            "Sgot Aspartate Aminotransferase         462\n",
            "Total Protiens                          463\n",
            " ALB Albumin                            494\n",
            "A/G Ratio Albumin and Globulin Ratio    559\n",
            "Result                                    0\n",
            "dtype: int64\n",
            "\n",
            "--- Duplicate Rows ---\n",
            "11323\n"
          ]
        }
      ]
    },
    {
      "cell_type": "markdown",
      "source": [
        "<b> Data Cleaning </b>"
      ],
      "metadata": {
        "id": "mfRk9wBWtUpY"
      }
    },
    {
      "cell_type": "code",
      "source": [
        "# --- Data Cleaning ---\n",
        "# Example: Strip column names of spaces\n",
        "df.columns = df.columns.str.strip()\n",
        "\n",
        "# Fill missing numerical with mean\n",
        "num_cols = df.select_dtypes(include=np.number).columns\n",
        "df[num_cols] = df[num_cols].fillna(df[num_cols].mean())\n",
        "\n",
        "# Fill missing categorical with mode\n",
        "cat_cols = df.select_dtypes(exclude=np.number).columns\n",
        "for col in cat_cols:\n",
        "    df[col] = df[col].fillna(df[col].mode()[0])\n",
        "\n",
        "# Remove duplicates\n",
        "df.drop_duplicates(inplace=True)\n",
        "\n",
        "print(\"\\n--- Cleaned Data Missing Values ---\")\n",
        "print(df.isnull().sum())"
      ],
      "metadata": {
        "colab": {
          "base_uri": "https://localhost:8080/"
        },
        "id": "i3UNOVzetZk7",
        "outputId": "dd8491d5-6532-421c-f21b-d53b8e1b7075"
      },
      "execution_count": 7,
      "outputs": [
        {
          "output_type": "stream",
          "name": "stdout",
          "text": [
            "\n",
            "--- Cleaned Data Missing Values ---\n",
            "Age of the patient                      0\n",
            "Gender of the patient                   0\n",
            "Total Bilirubin                         0\n",
            "Direct Bilirubin                        0\n",
            "Alkphos Alkaline Phosphotase            0\n",
            "Sgpt Alamine Aminotransferase           0\n",
            "Sgot Aspartate Aminotransferase         0\n",
            "Total Protiens                          0\n",
            "ALB Albumin                             0\n",
            "A/G Ratio Albumin and Globulin Ratio    0\n",
            "Result                                  0\n",
            "dtype: int64\n"
          ]
        }
      ]
    },
    {
      "cell_type": "markdown",
      "source": [
        "<b> Univariate Analysis </b>"
      ],
      "metadata": {
        "id": "MLM70lxNv83m"
      }
    },
    {
      "cell_type": "code",
      "source": [
        "# --- UNIVARIATE ANALYSIS ---\n",
        "for col in num_cols:\n",
        "    plt.figure()\n",
        "    sns.histplot(df[col], kde=True, bins=30, color='skyblue')\n",
        "    plt.title(f'Distribution of {col}')\n",
        "    plt.show()\n",
        "\n",
        "for col in cat_cols:\n",
        "    plt.figure()\n",
        "    sns.countplot(x=df[col], palette='pastel')\n",
        "    plt.title(f'Count of {col}')\n",
        "    plt.show()"
      ],
      "metadata": {
        "colab": {
          "base_uri": "https://localhost:8080/",
          "height": 1000
        },
        "id": "U24-BbkVwFtI",
        "outputId": "5a2738cd-1a0c-49b7-8dff-e66beacd1bbb"
      },
      "execution_count": 10,
      "outputs": [
        {
          "output_type": "display_data",
          "data": {
            "text/plain": [
              "<Figure size 640x480 with 1 Axes>"
            ],
            "image/png": "[encoded data removed]"
          },
          "metadata": {}
        },
        {
          "output_type": "display_data",
          "data": {
            "text/plain": [
              "<Figure size 640x480 with 1 Axes>"
            ],
            "image/png": "[encoded data removed]"
          },
          "metadata": {}
        },
        {
          "output_type": "display_data",
          "data": {
            "text/plain": [
              "<Figure size 640x480 with 1 Axes>"
            ],
            "image/png": "[encoded data removed]"
          },
          "metadata": {}
        },
        {
          "output_type": "error",
          "ename": "KeyError",
          "evalue": "'Alkphos Alkaline Phosphotase'",
          "traceback": [
            "\u001b[0;31m---------------------------------------------------------------------------\u001b[0m",
            "\u001b[0;31mKeyError\u001b[0m                                  Traceback (most recent call last)",
            "\u001b[0;32m/usr/local/lib/python3.11/dist-packages/pandas/core/indexes/base.py\u001b[0m in \u001b[0;36mget_loc\u001b[0;34m(self, key)\u001b[0m\n\u001b[1;32m   3804\u001b[0m         \u001b[0;32mtry\u001b[0m\u001b[0;34m:\u001b[0m\u001b[0;34m\u001b[0m\u001b[0;34m\u001b[0m\u001b[0m\n\u001b[0;32m-> 3805\u001b[0;31m             \u001b[0;32mreturn\u001b[0m \u001b[0mself\u001b[0m\u001b[0;34m.\u001b[0m\u001b[0m_engine\u001b[0m\u001b[0;34m.\u001b[0m\u001b[0mget_loc\u001b[0m\u001b[0;34m(\u001b[0m\u001b[0mcasted_key\u001b[0m\u001b[0;34m)\u001b[0m\u001b[0;34m\u001b[0m\u001b[0;34m\u001b[0m\u001b[0m\n\u001b[0m\u001b[1;32m   3806\u001b[0m         \u001b[0;32mexcept\u001b[0m \u001b[0mKeyError\u001b[0m \u001b[0;32mas\u001b[0m \u001b[0merr\u001b[0m\u001b[0;34m:\u001b[0m\u001b[0;34m\u001b[0m\u001b[0;34m\u001b[0m\u001b[0m\n",
            "\u001b[0;32mindex.pyx\u001b[0m in \u001b[0;36mpandas._libs.index.IndexEngine.get_loc\u001b[0;34m()\u001b[0m\n",
            "\u001b[0;32mindex.pyx\u001b[0m in \u001b[0;36mpandas._libs.index.IndexEngine.get_loc\u001b[0;34m()\u001b[0m\n",
            "\u001b[0;32mpandas/_libs/hashtable_class_helper.pxi\u001b[0m in \u001b[0;36mpandas._libs.hashtable.PyObjectHashTable.get_item\u001b[0;34m()\u001b[0m\n",
            "\u001b[0;32mpandas/_libs/hashtable_class_helper.pxi\u001b[0m in \u001b[0;36mpandas._libs.hashtable.PyObjectHashTable.get_item\u001b[0;34m()\u001b[0m\n",
            "\u001b[0;31mKeyError\u001b[0m: 'Alkphos Alkaline Phosphotase'",
            "\nThe above exception was the direct cause of the following exception:\n",
            "\u001b[0;31mKeyError\u001b[0m                                  Traceback (most recent call last)",
            "\u001b[0;32m/tmp/ipython-input-1693704187.py\u001b[0m in \u001b[0;36m<cell line: 0>\u001b[0;34m()\u001b[0m\n\u001b[1;32m      2\u001b[0m \u001b[0;32mfor\u001b[0m \u001b[0mcol\u001b[0m \u001b[0;32min\u001b[0m \u001b[0mnum_cols\u001b[0m\u001b[0;34m:\u001b[0m\u001b[0;34m\u001b[0m\u001b[0;34m\u001b[0m\u001b[0m\n\u001b[1;32m      3\u001b[0m     \u001b[0mplt\u001b[0m\u001b[0;34m.\u001b[0m\u001b[0mfigure\u001b[0m\u001b[0;34m(\u001b[0m\u001b[0;34m)\u001b[0m\u001b[0;34m\u001b[0m\u001b[0;34m\u001b[0m\u001b[0m\n\u001b[0;32m----> 4\u001b[0;31m     \u001b[0msns\u001b[0m\u001b[0;34m.\u001b[0m\u001b[0mhistplot\u001b[0m\u001b[0;34m(\u001b[0m\u001b[0mdf\u001b[0m\u001b[0;34m[\u001b[0m\u001b[0mcol\u001b[0m\u001b[0;34m]\u001b[0m\u001b[0;34m,\u001b[0m \u001b[0mkde\u001b[0m\u001b[0;34m=\u001b[0m\u001b[0;32mTrue\u001b[0m\u001b[0;34m,\u001b[0m \u001b[0mbins\u001b[0m\u001b[0;34m=\u001b[0m\u001b[0;36m30\u001b[0m\u001b[0;34m,\u001b[0m \u001b[0mcolor\u001b[0m\u001b[0;34m=\u001b[0m\u001b[0;34m'skyblue'\u001b[0m\u001b[0;34m)\u001b[0m\u001b[0;34m\u001b[0m\u001b[0;34m\u001b[0m\u001b[0m\n\u001b[0m\u001b[1;32m      5\u001b[0m     \u001b[0mplt\u001b[0m\u001b[0;34m.\u001b[0m\u001b[0mtitle\u001b[0m\u001b[0;34m(\u001b[0m\u001b[0;34mf'Distribution of {col}'\u001b[0m\u001b[0;34m)\u001b[0m\u001b[0;34m\u001b[0m\u001b[0;34m\u001b[0m\u001b[0m\n\u001b[1;32m      6\u001b[0m     \u001b[0mplt\u001b[0m\u001b[0;34m.\u001b[0m\u001b[0mshow\u001b[0m\u001b[0;34m(\u001b[0m\u001b[0;34m)\u001b[0m\u001b[0;34m\u001b[0m\u001b[0;34m\u001b[0m\u001b[0m\n",
            "\u001b[0;32m/usr/local/lib/python3.11/dist-packages/pandas/core/frame.py\u001b[0m in \u001b[0;36m__getitem__\u001b[0;34m(self, key)\u001b[0m\n\u001b[1;32m   4100\u001b[0m             \u001b[0;32mif\u001b[0m \u001b[0mself\u001b[0m\u001b[0;34m.\u001b[0m\u001b[0mcolumns\u001b[0m\u001b[0;34m.\u001b[0m\u001b[0mnlevels\u001b[0m \u001b[0;34m>\u001b[0m \u001b[0;36m1\u001b[0m\u001b[0;34m:\u001b[0m\u001b[0;34m\u001b[0m\u001b[0;34m\u001b[0m\u001b[0m\n\u001b[1;32m   4101\u001b[0m                 \u001b[0;32mreturn\u001b[0m \u001b[0mself\u001b[0m\u001b[0;34m.\u001b[0m\u001b[0m_getitem_multilevel\u001b[0m\u001b[0;34m(\u001b[0m\u001b[0mkey\u001b[0m\u001b[0;34m)\u001b[0m\u001b[0;34m\u001b[0m\u001b[0;34m\u001b[0m\u001b[0m\n\u001b[0;32m-> 4102\u001b[0;31m             \u001b[0mindexer\u001b[0m \u001b[0;34m=\u001b[0m \u001b[0mself\u001b[0m\u001b[0;34m.\u001b[0m\u001b[0mcolumns\u001b[0m\u001b[0;34m.\u001b[0m\u001b[0mget_loc\u001b[0m\u001b[0;34m(\u001b[0m\u001b[0mkey\u001b[0m\u001b[0;34m)\u001b[0m\u001b[0;34m\u001b[0m\u001b[0;34m\u001b[0m\u001b[0m\n\u001b[0m\u001b[1;32m   4103\u001b[0m             \u001b[0;32mif\u001b[0m \u001b[0mis_integer\u001b[0m\u001b[0;34m(\u001b[0m\u001b[0mindexer\u001b[0m\u001b[0;34m)\u001b[0m\u001b[0;34m:\u001b[0m\u001b[0;34m\u001b[0m\u001b[0;34m\u001b[0m\u001b[0m\n\u001b[1;32m   4104\u001b[0m                 \u001b[0mindexer\u001b[0m \u001b[0;34m=\u001b[0m \u001b[0;34m[\u001b[0m\u001b[0mindexer\u001b[0m\u001b[0;34m]\u001b[0m\u001b[0;34m\u001b[0m\u001b[0;34m\u001b[0m\u001b[0m\n",
            "\u001b[0;32m/usr/local/lib/python3.11/dist-packages/pandas/core/indexes/base.py\u001b[0m in \u001b[0;36mget_loc\u001b[0;34m(self, key)\u001b[0m\n\u001b[1;32m   3810\u001b[0m             ):\n\u001b[1;32m   3811\u001b[0m                 \u001b[0;32mraise\u001b[0m \u001b[0mInvalidIndexError\u001b[0m\u001b[0;34m(\u001b[0m\u001b[0mkey\u001b[0m\u001b[0;34m)\u001b[0m\u001b[0;34m\u001b[0m\u001b[0;34m\u001b[0m\u001b[0m\n\u001b[0;32m-> 3812\u001b[0;31m             \u001b[0;32mraise\u001b[0m \u001b[0mKeyError\u001b[0m\u001b[0;34m(\u001b[0m\u001b[0mkey\u001b[0m\u001b[0;34m)\u001b[0m \u001b[0;32mfrom\u001b[0m \u001b[0merr\u001b[0m\u001b[0;34m\u001b[0m\u001b[0;34m\u001b[0m\u001b[0m\n\u001b[0m\u001b[1;32m   3813\u001b[0m         \u001b[0;32mexcept\u001b[0m \u001b[0mTypeError\u001b[0m\u001b[0;34m:\u001b[0m\u001b[0;34m\u001b[0m\u001b[0;34m\u001b[0m\u001b[0m\n\u001b[1;32m   3814\u001b[0m             \u001b[0;31m# If we have a listlike key, _check_indexing_error will raise\u001b[0m\u001b[0;34m\u001b[0m\u001b[0;34m\u001b[0m\u001b[0m\n",
            "\u001b[0;31mKeyError\u001b[0m: 'Alkphos Alkaline Phosphotase'"
          ]
        },
        {
          "output_type": "display_data",
          "data": {
            "text/plain": [
              "<Figure size 640x480 with 0 Axes>"
            ]
          },
          "metadata": {}
        }
      ]
    }
  ]
}